{
 "cells": [
  {
   "cell_type": "markdown",
   "metadata": {},
   "source": [
    "# Kunal Rana\n",
    "\n",
    "## Batch 3\n",
    "\n",
    "## TL RAHUL"
   ]
  },
  {
   "cell_type": "code",
   "execution_count": 2,
   "metadata": {},
   "outputs": [],
   "source": [
    " import numpy as np"
   ]
  },
  {
   "cell_type": "markdown",
   "metadata": {},
   "source": [
    "#### Use Numpy to create an array of 20 ‘0s’ and replace the 4th object with the number 5.\n"
   ]
  },
  {
   "cell_type": "code",
   "execution_count": 3,
   "metadata": {},
   "outputs": [
    {
     "data": {
      "text/plain": [
       "array([0., 0., 0., 0., 0., 0., 0., 0., 0., 0., 0., 0., 0., 0., 0., 0., 0.,\n",
       "       0., 0., 0.])"
      ]
     },
     "execution_count": 3,
     "metadata": {},
     "output_type": "execute_result"
    }
   ],
   "source": [
    "array = np.zeros(20)\n",
    "array"
   ]
  },
  {
   "cell_type": "code",
   "execution_count": 4,
   "metadata": {},
   "outputs": [
    {
     "data": {
      "text/plain": [
       "array([0., 0., 0., 4., 0., 0., 0., 0., 0., 0., 0., 0., 0., 0., 0., 0., 0.,\n",
       "       0., 0., 0.])"
      ]
     },
     "execution_count": 4,
     "metadata": {},
     "output_type": "execute_result"
    }
   ],
   "source": [
    "array[3] = 4\n",
    "array"
   ]
  },
  {
   "cell_type": "markdown",
   "metadata": {},
   "source": [
    "### Perform the following:-\n",
    "#### Create an array of integers starting from 21 to 30 and name it as ‘Array1’.\n",
    "#### Create another array of integers from 11 to 20 and name it as ‘Array2’.\n",
    "#### Calculate the difference between ‘Array1’ and ‘Array2’ and store it in an array named ‘Array3’\n"
   ]
  },
  {
   "cell_type": "code",
   "execution_count": 5,
   "metadata": {},
   "outputs": [
    {
     "data": {
      "text/plain": [
       "array([[21, 22, 23],\n",
       "       [24, 25, 26],\n",
       "       [27, 28, 29]])"
      ]
     },
     "execution_count": 5,
     "metadata": {},
     "output_type": "execute_result"
    }
   ],
   "source": [
    "Array1 = np.arange(21,30).reshape(3,3)\n",
    "Array1"
   ]
  },
  {
   "cell_type": "code",
   "execution_count": 6,
   "metadata": {},
   "outputs": [
    {
     "data": {
      "text/plain": [
       "array([[11, 12, 13],\n",
       "       [14, 15, 16],\n",
       "       [17, 18, 19]])"
      ]
     },
     "execution_count": 6,
     "metadata": {},
     "output_type": "execute_result"
    }
   ],
   "source": [
    "Array2 = np.arange(11,20).reshape(3,3)\n",
    "Array2"
   ]
  },
  {
   "cell_type": "code",
   "execution_count": 7,
   "metadata": {},
   "outputs": [
    {
     "data": {
      "text/plain": [
       "array([[10, 10, 10],\n",
       "       [10, 10, 10],\n",
       "       [10, 10, 10]])"
      ]
     },
     "execution_count": 7,
     "metadata": {},
     "output_type": "execute_result"
    }
   ],
   "source": [
    "Array3 = Array1 - Array2\n",
    "Array3"
   ]
  },
  {
   "cell_type": "markdown",
   "metadata": {},
   "source": [
    "### Create a dummy array named as ‘arr’ and find its\n",
    "#### Length \n",
    "#### Dimension\n",
    "#### Shape\n",
    "#### Min or Max Element\n",
    "#### dtype\n"
   ]
  },
  {
   "cell_type": "code",
   "execution_count": 10,
   "metadata": {},
   "outputs": [
    {
     "data": {
      "text/plain": [
       "array([18, 42, 32, 37,  4, 33, 13, 21, 27, 15, 26,  4])"
      ]
     },
     "execution_count": 10,
     "metadata": {},
     "output_type": "execute_result"
    }
   ],
   "source": [
    "arr = np.random.randint(1,50,12)\n",
    "arr"
   ]
  },
  {
   "cell_type": "code",
   "execution_count": 22,
   "metadata": {},
   "outputs": [
    {
     "name": "stdout",
     "output_type": "stream",
     "text": [
      "length of array : 12\n",
      "Dimension of array : 1\n",
      "Shape of an array : (12,)\n",
      "Min element 4 and \n",
      "Max elemet 42\n",
      "Data type of an array is :  int32\n"
     ]
    }
   ],
   "source": [
    "print('length of array :', len(arr))\n",
    "print('Dimension of array :', arr.ndim)\n",
    "print('Shape of an array :', arr.shape)\n",
    "print('Min element {} and \\nMax elemet {}'.format(arr.min(),arr.max()))\n",
    "print('Data type of an array is : ', arr.dtype)"
   ]
  },
  {
   "cell_type": "markdown",
   "metadata": {},
   "source": [
    "#### Explain with an example how we could convert an array into a matrix. Also find the shape and dimensions of the matrix.\n"
   ]
  },
  {
   "cell_type": "code",
   "execution_count": 29,
   "metadata": {},
   "outputs": [
    {
     "name": "stdout",
     "output_type": "stream",
     "text": [
      "one dimension array : [41  1  3 34 10 34  1 24 26 42 33  1]\n",
      "Matrix : \n",
      " [[41  1  3 34]\n",
      " [10 34  1 24]\n",
      " [26 42 33  1]]\n"
     ]
    }
   ],
   "source": [
    "oneD_array = np.random.randint(1,50,12) #it will create one D array\n",
    "print('one dimension array :', oneD_array)\n",
    "# BY using .reshape() function we can create one D into matrix \n",
    "matrix_ = oneD_array.reshape(3,4)\n",
    "print('Matrix : \\n', matrix_)"
   ]
  },
  {
   "cell_type": "code",
   "execution_count": 30,
   "metadata": {},
   "outputs": [
    {
     "name": "stdout",
     "output_type": "stream",
     "text": [
      "Matrix_ :\n",
      " [[1 2 3]\n",
      " [4 5 6]\n",
      " [7 8 9]]\n"
     ]
    }
   ],
   "source": [
    "twoD_array = [[1,2,3],[4,5,6],[7,8,9]]\n",
    "# By using np.array() we can covert array into matrix\n",
    "Matrix_ = np.array(twoD_array)\n",
    "print('Matrix_ :\\n', Matrix_)"
   ]
  },
  {
   "cell_type": "markdown",
   "metadata": {},
   "source": [
    "### Use the matrix in [Q4] to find:-\n",
    "#### Transpose of the matrix\n",
    "#### Sum of its elements\n"
   ]
  },
  {
   "cell_type": "code",
   "execution_count": 34,
   "metadata": {},
   "outputs": [
    {
     "name": "stdout",
     "output_type": "stream",
     "text": [
      "Orignal matrix :\n",
      " [[41  1  3 34]\n",
      " [10 34  1 24]\n",
      " [26 42 33  1]]\n"
     ]
    }
   ],
   "source": [
    "print('Orignal matrix :\\n', matrix_)"
   ]
  },
  {
   "cell_type": "code",
   "execution_count": 31,
   "metadata": {},
   "outputs": [
    {
     "name": "stdout",
     "output_type": "stream",
     "text": [
      "Transpose of the matrix :\n",
      " [[41 10 26]\n",
      " [ 1 34 42]\n",
      " [ 3  1 33]\n",
      " [34 24  1]]\n"
     ]
    }
   ],
   "source": [
    "print('Transpose of a matrix :\\n', matrix_.transpose())"
   ]
  },
  {
   "cell_type": "code",
   "execution_count": 33,
   "metadata": {},
   "outputs": [
    {
     "name": "stdout",
     "output_type": "stream",
     "text": [
      "Sum of a matrix :\n",
      " 250\n"
     ]
    }
   ],
   "source": [
    "print('Sum of a matrix :\\n', matrix_.sum())"
   ]
  },
  {
   "cell_type": "markdown",
   "metadata": {},
   "source": [
    "#### Create an identity matrix of shape (10X10) and replace the 0’s with ‘21"
   ]
  },
  {
   "cell_type": "code",
   "execution_count": 36,
   "metadata": {},
   "outputs": [
    {
     "name": "stdout",
     "output_type": "stream",
     "text": [
      "Identity matrix : \n",
      " [[1. 0. 0. 0. 0. 0. 0. 0. 0. 0.]\n",
      " [0. 1. 0. 0. 0. 0. 0. 0. 0. 0.]\n",
      " [0. 0. 1. 0. 0. 0. 0. 0. 0. 0.]\n",
      " [0. 0. 0. 1. 0. 0. 0. 0. 0. 0.]\n",
      " [0. 0. 0. 0. 1. 0. 0. 0. 0. 0.]\n",
      " [0. 0. 0. 0. 0. 1. 0. 0. 0. 0.]\n",
      " [0. 0. 0. 0. 0. 0. 1. 0. 0. 0.]\n",
      " [0. 0. 0. 0. 0. 0. 0. 1. 0. 0.]\n",
      " [0. 0. 0. 0. 0. 0. 0. 0. 1. 0.]\n",
      " [0. 0. 0. 0. 0. 0. 0. 0. 0. 1.]]\n"
     ]
    }
   ],
   "source": [
    "identity_matrix = np.eye(10,10)\n",
    "print('Identity matrix : \\n', identity_matrix)"
   ]
  },
  {
   "cell_type": "code",
   "execution_count": 37,
   "metadata": {},
   "outputs": [
    {
     "name": "stdout",
     "output_type": "stream",
     "text": [
      "[[ 1. 21. 21. 21. 21. 21. 21. 21. 21. 21.]\n",
      " [21.  1. 21. 21. 21. 21. 21. 21. 21. 21.]\n",
      " [21. 21.  1. 21. 21. 21. 21. 21. 21. 21.]\n",
      " [21. 21. 21.  1. 21. 21. 21. 21. 21. 21.]\n",
      " [21. 21. 21. 21.  1. 21. 21. 21. 21. 21.]\n",
      " [21. 21. 21. 21. 21.  1. 21. 21. 21. 21.]\n",
      " [21. 21. 21. 21. 21. 21.  1. 21. 21. 21.]\n",
      " [21. 21. 21. 21. 21. 21. 21.  1. 21. 21.]\n",
      " [21. 21. 21. 21. 21. 21. 21. 21.  1. 21.]\n",
      " [21. 21. 21. 21. 21. 21. 21. 21. 21.  1.]]\n"
     ]
    }
   ],
   "source": [
    "identity_matrix[identity_matrix==0] = 21\n",
    "print(identity_matrix)"
   ]
  },
  {
   "cell_type": "markdown",
   "metadata": {},
   "source": [
    "#### Use the given sample matrix to perform the following operations in an array:- \n",
    "#### array([[  1,   2,   3,   4,   5,   6,   7,   8,   9,  10],\n",
    "####      [ 11,  12,  13,  14,  15,  16,  17,  18,  19,  20],\n",
    "####      [ 21,  22,  23,  24,  25,  26,  27,  28,  29,  30],\n",
    "####      [ 31,  32,  33,  34,  35,  36,  37,  38,  39,  40],\n",
    "####      [ 41,  42,  43,  44,  45,  46,  47,  48,  49,  50],\n",
    "####      [ 51,  52,  53,  54,  55,  56,  57,  58,  59,  60],\n",
    "####      [ 61,  62,  63,  64,  65,  66,  67,  68,  69,  70],\n",
    "####      [ 71,  72,  73,  74,  75,  76,  77,  78,  79,  80],\n",
    "####      [ 81,  82,  83,  84,  85,  86,  87,  88,  89,  90],\n",
    "####      [ 91,  92,  93,  94,  95,  96,  97,  98,  99, 100]])\n"
   ]
  },
  {
   "cell_type": "code",
   "execution_count": null,
   "metadata": {},
   "outputs": [],
   "source": []
  },
  {
   "cell_type": "code",
   "execution_count": 38,
   "metadata": {},
   "outputs": [
    {
     "name": "stdout",
     "output_type": "stream",
     "text": [
      "[[  1   2   3   4   5   6   7   8   9  10]\n",
      " [ 11  12  13  14  15  16  17  18  19  20]\n",
      " [ 21  22  23  24  25  26  27  28  29  30]\n",
      " [ 31  32  33  34  35  36  37  38  39  40]\n",
      " [ 41  42  43  44  45  46  47  48  49  50]\n",
      " [ 51  52  53  54  55  56  57  58  59  60]\n",
      " [ 61  62  63  64  65  66  67  68  69  70]\n",
      " [ 71  72  73  74  75  76  77  78  79  80]\n",
      " [ 81  82  83  84  85  86  87  88  89  90]\n",
      " [ 91  92  93  94  95  96  97  98  99 100]]\n"
     ]
    }
   ],
   "source": [
    "samplematrix = np.array(([  1,   2,   3,   4,   5,   6,   7,   8,   9,  10],[ 11,  12,  13,  14,  15,  16,  17,  18,  19,  20],[ 21,  22,  23,  24,  25,  26,  27,  28,  29,  30],[ 31,  32,  33,  34,  35,  36,  37,  38,  39,  40],[ 41,  42,  43,  44,  45,  46,  47,  48,  49,  50],[ 51,  52,  53,  54,  55,  56,  57,  58,  59,  60],[ 61,  62,  63,  64,  65,  66,  67,  68,  69,  70],[ 71,  72,  73,  74,  75,  76,  77,  78,  79,  80],[ 81,  82,  83,  84,  85,  86,  87,  88,  89,  90],[ 91,  92,  93,  94,  95,  96,  97,  98,  99, 100]))\n",
    "print(samplematrix)"
   ]
  },
  {
   "cell_type": "code",
   "execution_count": 41,
   "metadata": {},
   "outputs": [
    {
     "name": "stdout",
     "output_type": "stream",
     "text": [
      "[[81 82 83]\n",
      " [91 92 93]]\n"
     ]
    }
   ],
   "source": [
    "#####Retrieve the last 2 rows and first 3 column values of the above matrix.\n",
    "print(samplematrix[-2:,:3])"
   ]
  },
  {
   "cell_type": "code",
   "execution_count": 42,
   "metadata": {},
   "outputs": [
    {
     "data": {
      "text/plain": [
       "55"
      ]
     },
     "execution_count": 42,
     "metadata": {},
     "output_type": "execute_result"
    }
   ],
   "source": [
    "######Retrieve the value 55 from the above matrix.\n",
    "samplematrix[5,4]"
   ]
  },
  {
   "cell_type": "code",
   "execution_count": 43,
   "metadata": {},
   "outputs": [
    {
     "data": {
      "text/plain": [
       "array([ 4, 14, 24, 34, 44, 54, 64, 74, 84, 94])"
      ]
     },
     "execution_count": 43,
     "metadata": {},
     "output_type": "execute_result"
    }
   ],
   "source": [
    "#####Retrieve values from the 3rd column in the above matrix.\n",
    "column3 = samplematrix[:, 3]\n",
    "column3"
   ]
  },
  {
   "cell_type": "code",
   "execution_count": 44,
   "metadata": {},
   "outputs": [
    {
     "data": {
      "text/plain": [
       "array([51, 52, 53, 54, 55, 56, 57, 58, 59, 60])"
      ]
     },
     "execution_count": 44,
     "metadata": {},
     "output_type": "execute_result"
    }
   ],
   "source": [
    "#####Retrieve values from the 6th row in the above matrix.\n",
    "row6 = samplematrix[5]\n",
    "row6"
   ]
  },
  {
   "cell_type": "code",
   "execution_count": 45,
   "metadata": {},
   "outputs": [
    {
     "name": "stdout",
     "output_type": "stream",
     "text": [
      "Mean =  50.5\n",
      "Variance =  833.25\n"
     ]
    }
   ],
   "source": [
    "######Calculate the mean and variance of sum of all the values in the matrix.\n",
    "print('Mean = ', samplematrix.mean() )\n",
    "print('Variance = ', np.var(samplematrix))"
   ]
  },
  {
   "cell_type": "code",
   "execution_count": 47,
   "metadata": {},
   "outputs": [
    {
     "name": "stdout",
     "output_type": "stream",
     "text": [
      "Maximum Value in matrix is =  100\n"
     ]
    }
   ],
   "source": [
    "######Retrieve the largest number from the matrix.\n",
    "print('Maximum Value in matrix is = ', samplematrix.max())"
   ]
  },
  {
   "cell_type": "markdown",
   "metadata": {},
   "source": [
    "#### Display all even numbers between 0 to 40, with a stop value of 4."
   ]
  },
  {
   "cell_type": "code",
   "execution_count": 48,
   "metadata": {},
   "outputs": [
    {
     "data": {
      "text/plain": [
       "array([ 0,  4,  8, 12, 16, 20, 24, 28, 32, 36, 40])"
      ]
     },
     "execution_count": 48,
     "metadata": {},
     "output_type": "execute_result"
    }
   ],
   "source": [
    "evenvalue = np.arange(0,41,4)\n",
    "evenvalue"
   ]
  },
  {
   "cell_type": "markdown",
   "metadata": {},
   "source": [
    "### Explain the difference between \n",
    "#### ‘rand’ and ‘randn’ with a suitable example.\n",
    "#### ‘argmin’/’argmax’ and ‘min’/’max’ with a suitable example.\n"
   ]
  },
  {
   "cell_type": "code",
   "execution_count": 49,
   "metadata": {},
   "outputs": [
    {
     "data": {
      "text/plain": [
       "array([0.94207041, 0.40066069, 0.06319117, 0.3844038 , 0.99270927])"
      ]
     },
     "execution_count": 49,
     "metadata": {},
     "output_type": "execute_result"
    }
   ],
   "source": [
    "# rand returns array with random variables from \"uniform distribution\"\n",
    "np.random.rand(5)"
   ]
  },
  {
   "cell_type": "code",
   "execution_count": 50,
   "metadata": {},
   "outputs": [
    {
     "data": {
      "text/plain": [
       "array([ 0.42363703, -1.22963261,  1.57794994, -1.25168822, -0.5833843 ])"
      ]
     },
     "execution_count": 50,
     "metadata": {},
     "output_type": "execute_result"
    }
   ],
   "source": [
    "#randn returns array with random variables from \"Standard distribution\"\n",
    "#i.e mean as 0 and standard deviation of 1\n",
    "np.random.randn(5)"
   ]
  },
  {
   "cell_type": "code",
   "execution_count": 52,
   "metadata": {},
   "outputs": [
    {
     "name": "stdout",
     "output_type": "stream",
     "text": [
      "array [31 66 36 46 50 77 21  4 62 94 58 46 81 87 47  0 84 18 13 16]\n",
      "\n",
      "Minimum value =  0 \n",
      "Maximum value =  94\n",
      "\n",
      "Argmin =  15 \n",
      "Argmax =  9\n"
     ]
    }
   ],
   "source": [
    "# while min/max return minimun or maximum value in the array, \n",
    "#argmin/argmax returns the index location of the minimum or maximum value\n",
    "\n",
    "#using random array\n",
    "array = np.random.randint(0,100,20)\n",
    "print('array',array)\n",
    "print('\\nMinimum value = ', array.min(),'\\nMaximum value = ',array.max())# returns min and max values\n",
    "\n",
    "print('\\nArgmin = ', array.argmin(),'\\nArgmax = ', array.argmax())#returns indeces of min and max values\n"
   ]
  },
  {
   "cell_type": "markdown",
   "metadata": {},
   "source": [
    "#### Create a random (6X2) array and reshape it as (2X6)."
   ]
  },
  {
   "cell_type": "code",
   "execution_count": 54,
   "metadata": {},
   "outputs": [
    {
     "data": {
      "text/plain": [
       "array([[0.84656417, 0.49372119],\n",
       "       [0.50543095, 0.03743238],\n",
       "       [0.18367422, 0.44414986],\n",
       "       [0.60296732, 0.17688752],\n",
       "       [0.55692204, 0.16596346],\n",
       "       [0.98396166, 0.5745127 ]])"
      ]
     },
     "execution_count": 54,
     "metadata": {},
     "output_type": "execute_result"
    }
   ],
   "source": [
    "random_matrix = np.random.rand(6,2)\n",
    "random_matrix"
   ]
  },
  {
   "cell_type": "code",
   "execution_count": 55,
   "metadata": {},
   "outputs": [
    {
     "data": {
      "text/plain": [
       "array([[0.84656417, 0.49372119, 0.50543095, 0.03743238, 0.18367422,\n",
       "        0.44414986],\n",
       "       [0.60296732, 0.17688752, 0.55692204, 0.16596346, 0.98396166,\n",
       "        0.5745127 ]])"
      ]
     },
     "execution_count": 55,
     "metadata": {},
     "output_type": "execute_result"
    }
   ],
   "source": [
    "random_matrix.reshape(2,6)"
   ]
  },
  {
   "cell_type": "markdown",
   "metadata": {},
   "source": [
    "#### Give a valid point of difference between ‘linspace’ and ‘arange’ functions."
   ]
  },
  {
   "cell_type": "code",
   "execution_count": 56,
   "metadata": {},
   "outputs": [
    {
     "data": {
      "text/plain": [
       "array([ 0., 10., 20., 30.])"
      ]
     },
     "execution_count": 56,
     "metadata": {},
     "output_type": "execute_result"
    }
   ],
   "source": [
    "# linspace returns evenly spaced numbers 'over' a specified interval and last number is included.\n",
    "# linspace allows you to define number of steps\n",
    "\n",
    "np.linspace(0,30,4) # this gives 4 evenly spaced numbers from 0 to 30,inluding 30\n"
   ]
  },
  {
   "cell_type": "code",
   "execution_count": 57,
   "metadata": {},
   "outputs": [
    {
     "data": {
      "text/plain": [
       "array([ 0,  4,  8, 12, 16, 20, 24, 28])"
      ]
     },
     "execution_count": 57,
     "metadata": {},
     "output_type": "execute_result"
    }
   ],
   "source": [
    "# arange returns evenly spaced values 'within' a given interval.\n",
    "# arange allows you to define the size of the step\n",
    "\n",
    "np.arange(0,30, 4) #however many are needed from 0 to 30 with an interval of 4, excluding 30"
   ]
  },
  {
   "cell_type": "markdown",
   "metadata": {},
   "source": [
    "### Use your array in [Q3] to find the values of \n",
    "#### arr[-2:]\n",
    "#### arr[0:3]\n",
    "#### arr[-4]\n"
   ]
  },
  {
   "cell_type": "code",
   "execution_count": 58,
   "metadata": {},
   "outputs": [
    {
     "data": {
      "text/plain": [
       "array([26,  4])"
      ]
     },
     "execution_count": 58,
     "metadata": {},
     "output_type": "execute_result"
    }
   ],
   "source": [
    "arr[-2:]"
   ]
  },
  {
   "cell_type": "code",
   "execution_count": 59,
   "metadata": {},
   "outputs": [
    {
     "data": {
      "text/plain": [
       "array([18, 42, 32])"
      ]
     },
     "execution_count": 59,
     "metadata": {},
     "output_type": "execute_result"
    }
   ],
   "source": [
    "arr[0:3]"
   ]
  },
  {
   "cell_type": "code",
   "execution_count": 60,
   "metadata": {},
   "outputs": [
    {
     "data": {
      "text/plain": [
       "27"
      ]
     },
     "execution_count": 60,
     "metadata": {},
     "output_type": "execute_result"
    }
   ],
   "source": [
    "arr[-4]"
   ]
  },
  {
   "cell_type": "markdown",
   "metadata": {},
   "source": [
    "###### Create an array named ‘simple_array’ with values starting from 1 to 31. Apply a condition over it as a simple_array <10 and name the resultant array as ‘boolean_array’ and display it.\n"
   ]
  },
  {
   "cell_type": "code",
   "execution_count": 61,
   "metadata": {},
   "outputs": [
    {
     "data": {
      "text/plain": [
       "array([ True,  True,  True,  True,  True,  True,  True,  True,  True,\n",
       "       False, False, False, False, False, False, False, False, False,\n",
       "       False, False, False, False, False, False, False, False, False,\n",
       "       False, False, False, False])"
      ]
     },
     "execution_count": 61,
     "metadata": {},
     "output_type": "execute_result"
    }
   ],
   "source": [
    "simple_array = np.arange(1,32)\n",
    "boolean_array = simple_array<10\n",
    "boolean_array"
   ]
  },
  {
   "cell_type": "markdown",
   "metadata": {},
   "source": [
    "### Quote suitable examples to showcase the usage of the following functions in Numpy:-\n"
   ]
  },
  {
   "cell_type": "code",
   "execution_count": 62,
   "metadata": {},
   "outputs": [
    {
     "data": {
      "text/plain": [
       "array([2.30258509, 2.99573227, 3.40119738, 3.68887945, 3.91202301])"
      ]
     },
     "execution_count": 62,
     "metadata": {},
     "output_type": "execute_result"
    }
   ],
   "source": [
    "# .log() gives the Natural Logarithm (log) of the Input value, element-wise.\n",
    "example_array = ([10,20,30,40,50]) #example array\n",
    "\n",
    "np.log(example_array) #returns log of all values"
   ]
  },
  {
   "cell_type": "code",
   "execution_count": 63,
   "metadata": {},
   "outputs": [
    {
     "data": {
      "text/plain": [
       "array([2.3 , 3.  , 3.4 , 3.69, 3.91])"
      ]
     },
     "execution_count": 63,
     "metadata": {},
     "output_type": "execute_result"
    }
   ],
   "source": [
    "# .rounds() rounds of the value to given decimal points, takes parameter \"decimals\"\n",
    "log = np.log(example_array)\n",
    "np.round(log, decimals=2) #log from previous cell"
   ]
  },
  {
   "cell_type": "code",
   "execution_count": 64,
   "metadata": {},
   "outputs": [
    {
     "data": {
      "text/plain": [
       "array([3.16227766, 4.47213595, 5.47722558, 6.32455532, 7.07106781])"
      ]
     },
     "execution_count": 64,
     "metadata": {},
     "output_type": "execute_result"
    }
   ],
   "source": [
    "# .sqrt() returns the square root\n",
    "np.sqrt(example_array)"
   ]
  },
  {
   "cell_type": "code",
   "execution_count": 65,
   "metadata": {},
   "outputs": [
    {
     "data": {
      "text/plain": [
       "array([2.20264658e+04, 4.85165195e+08, 1.06864746e+13, 2.35385267e+17,\n",
       "       5.18470553e+21])"
      ]
     },
     "execution_count": 65,
     "metadata": {},
     "output_type": "execute_result"
    }
   ],
   "source": [
    "# .exp() return the epontential values (e^)\n",
    "np.exp(example_array)"
   ]
  },
  {
   "cell_type": "code",
   "execution_count": null,
   "metadata": {},
   "outputs": [],
   "source": []
  }
 ],
 "metadata": {
  "kernelspec": {
   "display_name": "Python 3",
   "language": "python",
   "name": "python3"
  },
  "language_info": {
   "codemirror_mode": {
    "name": "ipython",
    "version": 3
   },
   "file_extension": ".py",
   "mimetype": "text/x-python",
   "name": "python",
   "nbconvert_exporter": "python",
   "pygments_lexer": "ipython3",
   "version": "3.8.5"
  }
 },
 "nbformat": 4,
 "nbformat_minor": 4
}
