{
 "cells": [
  {
   "cell_type": "code",
   "execution_count": 3,
   "metadata": {
    "_cell_guid": "553d98af-9c22-4179-b1e9-afd0e1130106",
    "_uuid": "e2f95dd1-c61b-4551-9ac2-23388e06bc7b",
    "execution": {
     "iopub.execute_input": "2021-05-31T21:59:24.340448Z",
     "iopub.status.busy": "2021-05-31T21:59:24.339526Z",
     "iopub.status.idle": "2021-05-31T21:59:24.362943Z",
     "shell.execute_reply": "2021-05-31T21:59:24.361911Z",
     "shell.execute_reply.started": "2021-05-31T21:59:24.340306Z"
    },
    "jupyter": {
     "outputs_hidden": false
    }
   },
   "outputs": [],
   "source": [
    "# This Python 3 environment comes with many helpful analytics libraries installed\n",
    "# It is defined by the kaggle/python Docker image: https://github.com/kaggle/docker-python\n",
    "# For example, here's several helpful packages to load\n",
    "\n",
    "import numpy as np # linear algebra\n",
    "import pandas as pd # data processing, CSV file I/O (e.g. pd.read_csv)\n",
    "\n",
    "# Input data files are available in the read-only \"../input/\" directory\n",
    "# For example, running this (by clicking run or pressing Shift+Enter) will list all files under the input directory\n",
    "\n",
    "import os\n",
    "for dirname, _, filenames in os.walk('/kaggle/input'):\n",
    "    for filename in filenames:\n",
    "        print(os.path.join(dirname, filename))\n",
    "\n",
    "# You can write up to 20GB to the current directory (/kaggle/working/) that gets preserved as output when you create a version using \"Save & Run All\" \n",
    "# You can also write temporary files to /kaggle/temp/, but they won't be saved outside of the current session"
   ]
  },
  {
   "cell_type": "code",
   "execution_count": 4,
   "metadata": {
    "_cell_guid": "42773a6b-4c57-4e36-a8c4-da77d80fd6da",
    "_uuid": "34522c25-15f6-4842-8367-a19ec5aed7f2",
    "execution": {
     "iopub.execute_input": "2021-05-31T21:59:25.589049Z",
     "iopub.status.busy": "2021-05-31T21:59:25.588484Z",
     "iopub.status.idle": "2021-05-31T21:59:25.658148Z",
     "shell.execute_reply": "2021-05-31T21:59:25.656949Z",
     "shell.execute_reply.started": "2021-05-31T21:59:25.589011Z"
    },
    "jupyter": {
     "outputs_hidden": false
    }
   },
   "outputs": [
    {
     "data": {
      "text/html": [
       "<div>\n",
       "<style scoped>\n",
       "    .dataframe tbody tr th:only-of-type {\n",
       "        vertical-align: middle;\n",
       "    }\n",
       "\n",
       "    .dataframe tbody tr th {\n",
       "        vertical-align: top;\n",
       "    }\n",
       "\n",
       "    .dataframe thead th {\n",
       "        text-align: right;\n",
       "    }\n",
       "</style>\n",
       "<table border=\"1\" class=\"dataframe\">\n",
       "  <thead>\n",
       "    <tr style=\"text-align: right;\">\n",
       "      <th></th>\n",
       "      <th>Date</th>\n",
       "      <th>Description</th>\n",
       "      <th>InternationTransactionAmount</th>\n",
       "      <th>Category</th>\n",
       "      <th>Amount</th>\n",
       "      <th>TransactionUserName</th>\n",
       "      <th>TransactionType</th>\n",
       "      <th>IsoCurrency</th>\n",
       "      <th>Locality</th>\n",
       "      <th>City</th>\n",
       "      <th>State</th>\n",
       "      <th>Country</th>\n",
       "      <th>Unnamed: 12</th>\n",
       "    </tr>\n",
       "  </thead>\n",
       "  <tbody>\n",
       "    <tr>\n",
       "      <th>0</th>\n",
       "      <td>12/12/2019</td>\n",
       "      <td>THE ROOM               GURGAON                ...</td>\n",
       "      <td>0</td>\n",
       "      <td>Video game</td>\n",
       "      <td>-127</td>\n",
       "      <td>VIBHORE GOYAL</td>\n",
       "      <td>Domestic</td>\n",
       "      <td>INR</td>\n",
       "      <td>Central Park II</td>\n",
       "      <td>Gurugram</td>\n",
       "      <td>Haryana</td>\n",
       "      <td>India</td>\n",
       "      <td>NaN</td>\n",
       "    </tr>\n",
       "    <tr>\n",
       "      <th>1</th>\n",
       "      <td>12/12/2019</td>\n",
       "      <td>CUT AND STYLEGURGAON                          ...</td>\n",
       "      <td>0</td>\n",
       "      <td>Occupation</td>\n",
       "      <td>-499</td>\n",
       "      <td>JASJIT KAUR</td>\n",
       "      <td>Domestic</td>\n",
       "      <td>INR</td>\n",
       "      <td>Sector 4</td>\n",
       "      <td>Gurugram</td>\n",
       "      <td>Haryana</td>\n",
       "      <td>India</td>\n",
       "      <td>NaN</td>\n",
       "    </tr>\n",
       "    <tr>\n",
       "      <th>2</th>\n",
       "      <td>12/12/2019</td>\n",
       "      <td>MUMUSOGURGAON                                 ...</td>\n",
       "      <td>0</td>\n",
       "      <td></td>\n",
       "      <td>-388</td>\n",
       "      <td>JASJIT KAUR</td>\n",
       "      <td>Domestic</td>\n",
       "      <td>INR</td>\n",
       "      <td>Sector 49</td>\n",
       "      <td>Gurugram</td>\n",
       "      <td>Haryana</td>\n",
       "      <td>India</td>\n",
       "      <td>NaN</td>\n",
       "    </tr>\n",
       "    <tr>\n",
       "      <th>3</th>\n",
       "      <td>12/12/2019</td>\n",
       "      <td>THE ROOM               GURGAON                ...</td>\n",
       "      <td>0</td>\n",
       "      <td>Video game</td>\n",
       "      <td>-108</td>\n",
       "      <td>VIBHORE GOYAL</td>\n",
       "      <td>Domestic</td>\n",
       "      <td>INR</td>\n",
       "      <td>Central Park II</td>\n",
       "      <td>Gurugram</td>\n",
       "      <td>Haryana</td>\n",
       "      <td>India</td>\n",
       "      <td>NaN</td>\n",
       "    </tr>\n",
       "    <tr>\n",
       "      <th>4</th>\n",
       "      <td>12/12/2019</td>\n",
       "      <td>THE ROOM               GURGAON                ...</td>\n",
       "      <td>0</td>\n",
       "      <td>Video game</td>\n",
       "      <td>-50</td>\n",
       "      <td>VIBHORE GOYAL</td>\n",
       "      <td>Domestic</td>\n",
       "      <td>INR</td>\n",
       "      <td>Central Park II</td>\n",
       "      <td>Gurugram</td>\n",
       "      <td>Haryana</td>\n",
       "      <td>India</td>\n",
       "      <td>NaN</td>\n",
       "    </tr>\n",
       "  </tbody>\n",
       "</table>\n",
       "</div>"
      ],
      "text/plain": [
       "   Date        \\\n",
       "0  12/12/2019   \n",
       "1  12/12/2019   \n",
       "2  12/12/2019   \n",
       "3  12/12/2019   \n",
       "4  12/12/2019   \n",
       "\n",
       "  Description                                                          \\\n",
       "0  THE ROOM               GURGAON                ...                    \n",
       "1  CUT AND STYLEGURGAON                          ...                    \n",
       "2  MUMUSOGURGAON                                 ...                    \n",
       "3  THE ROOM               GURGAON                ...                    \n",
       "4  THE ROOM               GURGAON                ...                    \n",
       "\n",
       "  InternationTransactionAmount                        Category   Amount  \\\n",
       "0                            0                      Video game     -127   \n",
       "1                            0                      Occupation     -499   \n",
       "2                            0                                     -388   \n",
       "3                            0                      Video game     -108   \n",
       "4                            0                      Video game      -50   \n",
       "\n",
       "   TransactionUserName   TransactionType IsoCurrency         Locality  \\\n",
       "0         VIBHORE GOYAL         Domestic         INR  Central Park II   \n",
       "1           JASJIT KAUR         Domestic         INR         Sector 4   \n",
       "2           JASJIT KAUR         Domestic         INR        Sector 49   \n",
       "3         VIBHORE GOYAL         Domestic         INR  Central Park II   \n",
       "4         VIBHORE GOYAL         Domestic         INR  Central Park II   \n",
       "\n",
       "       City    State Country Unnamed: 12  \n",
       "0  Gurugram  Haryana   India         NaN  \n",
       "1  Gurugram  Haryana   India         NaN  \n",
       "2  Gurugram  Haryana   India         NaN  \n",
       "3  Gurugram  Haryana   India         NaN  \n",
       "4  Gurugram  Haryana   India         NaN  "
      ]
     },
     "execution_count": 4,
     "metadata": {},
     "output_type": "execute_result"
    }
   ],
   "source": [
    "## Load data \n",
    "data = pd.read_csv(r\"C:\\Users\\Kunal Rana\\Downloads\\DataScienceCleanStatement.csv\")\n",
    "\n",
    "## Overview of dataset\n",
    "data.head()"
   ]
  },
  {
   "cell_type": "code",
   "execution_count": 5,
   "metadata": {
    "_cell_guid": "e9214fc2-f481-4dce-8a6f-06f7123d95de",
    "_uuid": "eab77315-689c-4427-932d-f97f8a3fa358",
    "execution": {
     "iopub.execute_input": "2021-05-31T21:59:25.969965Z",
     "iopub.status.busy": "2021-05-31T21:59:25.969568Z",
     "iopub.status.idle": "2021-05-31T21:59:25.997183Z",
     "shell.execute_reply": "2021-05-31T21:59:25.995848Z",
     "shell.execute_reply.started": "2021-05-31T21:59:25.969932Z"
    },
    "jupyter": {
     "outputs_hidden": false
    }
   },
   "outputs": [
    {
     "name": "stdout",
     "output_type": "stream",
     "text": [
      "<class 'pandas.core.frame.DataFrame'>\n",
      "RangeIndex: 1470 entries, 0 to 1469\n",
      "Data columns (total 13 columns):\n",
      " #   Column                                                               Non-Null Count  Dtype \n",
      "---  ------                                                               --------------  ----- \n",
      " 0   Date                                                                 1470 non-null   object\n",
      " 1   Description                                                          1470 non-null   object\n",
      " 2   InternationTransactionAmount                                         1470 non-null   object\n",
      " 3     Category                                                           1470 non-null   object\n",
      " 4     Amount                                                             1470 non-null   object\n",
      " 5   TransactionUserName                                                  1470 non-null   object\n",
      " 6    TransactionType                                                     1470 non-null   object\n",
      " 7   IsoCurrency                                                          1470 non-null   object\n",
      " 8   Locality                                                             1302 non-null   object\n",
      " 9   City                                                                 1270 non-null   object\n",
      " 10  State                                                                1245 non-null   object\n",
      " 11  Country                                                              1307 non-null   object\n",
      " 12  Unnamed: 12                                                          4 non-null      object\n",
      "dtypes: object(13)\n",
      "memory usage: 149.4+ KB\n"
     ]
    }
   ],
   "source": [
    "data.info()"
   ]
  },
  {
   "cell_type": "code",
   "execution_count": 6,
   "metadata": {
    "_cell_guid": "399121b2-c07a-4108-82e9-e8dd1b0bdd9b",
    "_uuid": "8f2707dc-e0a5-4d77-83af-b9e8ec37403f",
    "execution": {
     "iopub.execute_input": "2021-05-31T21:59:26.265390Z",
     "iopub.status.busy": "2021-05-31T21:59:26.264971Z",
     "iopub.status.idle": "2021-05-31T21:59:26.340753Z",
     "shell.execute_reply": "2021-05-31T21:59:26.339597Z",
     "shell.execute_reply.started": "2021-05-31T21:59:26.265356Z"
    },
    "jupyter": {
     "outputs_hidden": false
    }
   },
   "outputs": [
    {
     "data": {
      "text/html": [
       "<div>\n",
       "<style scoped>\n",
       "    .dataframe tbody tr th:only-of-type {\n",
       "        vertical-align: middle;\n",
       "    }\n",
       "\n",
       "    .dataframe tbody tr th {\n",
       "        vertical-align: top;\n",
       "    }\n",
       "\n",
       "    .dataframe thead th {\n",
       "        text-align: right;\n",
       "    }\n",
       "</style>\n",
       "<table border=\"1\" class=\"dataframe\">\n",
       "  <thead>\n",
       "    <tr style=\"text-align: right;\">\n",
       "      <th></th>\n",
       "      <th>Date</th>\n",
       "      <th>Description</th>\n",
       "      <th>InternationTransactionAmount</th>\n",
       "      <th>Category</th>\n",
       "      <th>Amount</th>\n",
       "      <th>TransactionUserName</th>\n",
       "      <th>TransactionType</th>\n",
       "      <th>IsoCurrency</th>\n",
       "      <th>Locality</th>\n",
       "      <th>City</th>\n",
       "      <th>State</th>\n",
       "      <th>Country</th>\n",
       "      <th>Unnamed: 12</th>\n",
       "    </tr>\n",
       "  </thead>\n",
       "  <tbody>\n",
       "    <tr>\n",
       "      <th>count</th>\n",
       "      <td>1470</td>\n",
       "      <td>1470</td>\n",
       "      <td>1470</td>\n",
       "      <td>1470</td>\n",
       "      <td>1470</td>\n",
       "      <td>1470</td>\n",
       "      <td>1470</td>\n",
       "      <td>1470</td>\n",
       "      <td>1302</td>\n",
       "      <td>1270</td>\n",
       "      <td>1245</td>\n",
       "      <td>1307</td>\n",
       "      <td>4</td>\n",
       "    </tr>\n",
       "    <tr>\n",
       "      <th>unique</th>\n",
       "      <td>408</td>\n",
       "      <td>495</td>\n",
       "      <td>35</td>\n",
       "      <td>153</td>\n",
       "      <td>991</td>\n",
       "      <td>7</td>\n",
       "      <td>4</td>\n",
       "      <td>5</td>\n",
       "      <td>186</td>\n",
       "      <td>41</td>\n",
       "      <td>21</td>\n",
       "      <td>7</td>\n",
       "      <td>1</td>\n",
       "    </tr>\n",
       "    <tr>\n",
       "      <th>top</th>\n",
       "      <td>1/8/2019</td>\n",
       "      <td>THE ROOM               GURGAON                ...</td>\n",
       "      <td>0</td>\n",
       "      <td></td>\n",
       "      <td>-50</td>\n",
       "      <td>JASJIT KAUR</td>\n",
       "      <td>Domestic</td>\n",
       "      <td>INR</td>\n",
       "      <td>Central Park II</td>\n",
       "      <td>Gurugram</td>\n",
       "      <td>Haryana</td>\n",
       "      <td>India</td>\n",
       "      <td>India</td>\n",
       "    </tr>\n",
       "    <tr>\n",
       "      <th>freq</th>\n",
       "      <td>13</td>\n",
       "      <td>122</td>\n",
       "      <td>1436</td>\n",
       "      <td>508</td>\n",
       "      <td>25</td>\n",
       "      <td>755</td>\n",
       "      <td>1433</td>\n",
       "      <td>1433</td>\n",
       "      <td>227</td>\n",
       "      <td>930</td>\n",
       "      <td>935</td>\n",
       "      <td>1260</td>\n",
       "      <td>4</td>\n",
       "    </tr>\n",
       "  </tbody>\n",
       "</table>\n",
       "</div>"
      ],
      "text/plain": [
       "       Date        \\\n",
       "count        1470   \n",
       "unique        408   \n",
       "top      1/8/2019   \n",
       "freq           13   \n",
       "\n",
       "       Description                                                          \\\n",
       "count                                                1470                    \n",
       "unique                                                495                    \n",
       "top     THE ROOM               GURGAON                ...                    \n",
       "freq                                                  122                    \n",
       "\n",
       "       InternationTransactionAmount                        Category   Amount  \\\n",
       "count                          1470                            1470     1470   \n",
       "unique                           35                             153      991   \n",
       "top                               0                                      -50   \n",
       "freq                           1436                             508       25   \n",
       "\n",
       "        TransactionUserName   TransactionType IsoCurrency         Locality  \\\n",
       "count                   1470             1470        1470             1302   \n",
       "unique                     7                4           5              186   \n",
       "top              JASJIT KAUR         Domestic         INR  Central Park II   \n",
       "freq                     755             1433        1433              227   \n",
       "\n",
       "            City    State Country Unnamed: 12  \n",
       "count       1270     1245    1307           4  \n",
       "unique        41       21       7           1  \n",
       "top     Gurugram  Haryana   India       India  \n",
       "freq         930      935    1260           4  "
      ]
     },
     "execution_count": 6,
     "metadata": {},
     "output_type": "execute_result"
    }
   ],
   "source": [
    "data.describe()"
   ]
  },
  {
   "cell_type": "code",
   "execution_count": 7,
   "metadata": {
    "_cell_guid": "8c5950a6-5e13-458d-85c7-06c72d1d1fb4",
    "_uuid": "48e781d1-b0b5-4d5b-a4fe-2bfe9bb3de90",
    "execution": {
     "iopub.execute_input": "2021-05-31T21:59:26.473168Z",
     "iopub.status.busy": "2021-05-31T21:59:26.472743Z",
     "iopub.status.idle": "2021-05-31T21:59:26.480562Z",
     "shell.execute_reply": "2021-05-31T21:59:26.479421Z",
     "shell.execute_reply.started": "2021-05-31T21:59:26.473127Z"
    },
    "jupyter": {
     "outputs_hidden": false
    }
   },
   "outputs": [
    {
     "data": {
      "text/plain": [
       "Index(['Date      ',\n",
       "       'Description                                                        ',\n",
       "       'InternationTransactionAmount', '  Category', '  Amount',\n",
       "       'TransactionUserName ', ' TransactionType', 'IsoCurrency', 'Locality',\n",
       "       'City', 'State', 'Country', 'Unnamed: 12'],\n",
       "      dtype='object')"
      ]
     },
     "execution_count": 7,
     "metadata": {},
     "output_type": "execute_result"
    }
   ],
   "source": [
    "data.columns"
   ]
  },
  {
   "cell_type": "code",
   "execution_count": 8,
   "metadata": {
    "_cell_guid": "85ba3bba-f7ec-4942-83e1-e36cc3519b1e",
    "_uuid": "d9cc6d48-63c8-4d12-b4a2-a9697a6cbaa9",
    "execution": {
     "iopub.execute_input": "2021-05-31T21:59:26.732514Z",
     "iopub.status.busy": "2021-05-31T21:59:26.730409Z",
     "iopub.status.idle": "2021-05-31T21:59:26.737036Z",
     "shell.execute_reply": "2021-05-31T21:59:26.736095Z",
     "shell.execute_reply.started": "2021-05-31T21:59:26.732456Z"
    },
    "jupyter": {
     "outputs_hidden": false
    }
   },
   "outputs": [],
   "source": [
    "## Make a copy of dataset \n",
    "data_copy = data.copy()"
   ]
  },
  {
   "cell_type": "code",
   "execution_count": 9,
   "metadata": {
    "_cell_guid": "ec444bbc-3c14-44fc-a320-f2b8de6a0628",
    "_uuid": "9c7004e6-ff2e-42f7-8cb8-5e75126e0235",
    "execution": {
     "iopub.execute_input": "2021-05-31T21:59:26.904083Z",
     "iopub.status.busy": "2021-05-31T21:59:26.903505Z",
     "iopub.status.idle": "2021-05-31T21:59:26.911914Z",
     "shell.execute_reply": "2021-05-31T21:59:26.910072Z",
     "shell.execute_reply.started": "2021-05-31T21:59:26.904042Z"
    },
    "jupyter": {
     "outputs_hidden": false
    }
   },
   "outputs": [
    {
     "data": {
      "text/plain": [
       "(1470, 13)"
      ]
     },
     "execution_count": 9,
     "metadata": {},
     "output_type": "execute_result"
    }
   ],
   "source": [
    "data_copy.shape"
   ]
  },
  {
   "cell_type": "code",
   "execution_count": 10,
   "metadata": {
    "_cell_guid": "2f61cb92-1e9d-4da3-a67f-12b94ebfeb67",
    "_uuid": "86859e18-95bb-40a7-82dd-4586e774bd3f",
    "execution": {
     "iopub.execute_input": "2021-05-31T21:59:27.135901Z",
     "iopub.status.busy": "2021-05-31T21:59:27.135474Z",
     "iopub.status.idle": "2021-05-31T21:59:27.142914Z",
     "shell.execute_reply": "2021-05-31T21:59:27.141400Z",
     "shell.execute_reply.started": "2021-05-31T21:59:27.135861Z"
    },
    "jupyter": {
     "outputs_hidden": false
    }
   },
   "outputs": [],
   "source": [
    "## Drop Unamed column coz it is irrelevant\n",
    "data_copy.drop(['Unnamed: 12'], axis = 1, inplace=True)"
   ]
  },
  {
   "cell_type": "code",
   "execution_count": 11,
   "metadata": {
    "_cell_guid": "73f21039-0cb2-4d00-9b36-d7eaaa3c9c7b",
    "_uuid": "3c00de30-d882-401f-a316-a0542f0ba379",
    "execution": {
     "iopub.execute_input": "2021-05-31T21:59:27.337185Z",
     "iopub.status.busy": "2021-05-31T21:59:27.336543Z",
     "iopub.status.idle": "2021-05-31T21:59:27.346975Z",
     "shell.execute_reply": "2021-05-31T21:59:27.346033Z",
     "shell.execute_reply.started": "2021-05-31T21:59:27.337130Z"
    },
    "jupyter": {
     "outputs_hidden": false
    }
   },
   "outputs": [
    {
     "data": {
      "text/plain": [
       "Index(['Date', 'Description', 'InternationTransactionAmount', 'Category',\n",
       "       'Amount', 'TransactionUserName', 'TransactionType', 'IsoCurrency',\n",
       "       'Locality', 'City', 'State', 'Country'],\n",
       "      dtype='object')"
      ]
     },
     "execution_count": 11,
     "metadata": {},
     "output_type": "execute_result"
    }
   ],
   "source": [
    "## Remove irrelevant spaces from column name\n",
    "data_copy.columns = data_copy.columns.str.replace(' ', '')\n",
    "data_copy.columns"
   ]
  },
  {
   "cell_type": "code",
   "execution_count": 12,
   "metadata": {
    "_cell_guid": "01803855-d338-4176-bffb-54cb178ed941",
    "_uuid": "5ccf6544-0f63-4e61-8694-6d0090dc8386",
    "execution": {
     "iopub.execute_input": "2021-05-31T21:59:27.586016Z",
     "iopub.status.busy": "2021-05-31T21:59:27.585277Z",
     "iopub.status.idle": "2021-05-31T21:59:27.596989Z",
     "shell.execute_reply": "2021-05-31T21:59:27.595242Z",
     "shell.execute_reply.started": "2021-05-31T21:59:27.585957Z"
    },
    "jupyter": {
     "outputs_hidden": false
    }
   },
   "outputs": [
    {
     "data": {
      "text/plain": [
       "11.08843537414966"
      ]
     },
     "execution_count": 12,
     "metadata": {},
     "output_type": "execute_result"
    }
   ],
   "source": [
    "## Locality is subset of City, City < State & State is subset of Country.\n",
    "## Check % of values in country is missing.\n",
    "data_copy['Country'].isnull().sum() * 100 / len(data_copy)"
   ]
  },
  {
   "cell_type": "code",
   "execution_count": 13,
   "metadata": {
    "_cell_guid": "2d424e9f-c935-4d92-bde3-8c4ac7dfe3c3",
    "_uuid": "b1ffeab1-8643-40ab-8710-c6069bde5a76",
    "execution": {
     "iopub.execute_input": "2021-05-31T21:59:27.865782Z",
     "iopub.status.busy": "2021-05-31T21:59:27.865108Z",
     "iopub.status.idle": "2021-05-31T21:59:27.876629Z",
     "shell.execute_reply": "2021-05-31T21:59:27.875192Z",
     "shell.execute_reply.started": "2021-05-31T21:59:27.865738Z"
    },
    "jupyter": {
     "outputs_hidden": false
    }
   },
   "outputs": [
    {
     "data": {
      "text/plain": [
       "0"
      ]
     },
     "execution_count": 13,
     "metadata": {},
     "output_type": "execute_result"
    }
   ],
   "source": [
    "## Fill missing values in COuntry column to most frequent value in dataset.\n",
    "data_copy.Country.mode()\n",
    "data_copy['Country'].fillna(data_copy['Country'].mode()[0], inplace = True)\n",
    "data_copy['Country'].isnull().sum()"
   ]
  },
  {
   "cell_type": "code",
   "execution_count": 14,
   "metadata": {
    "_cell_guid": "3d1b7321-4f7b-4cfa-b6e7-db1b658f6ba9",
    "_uuid": "074550e8-3ad3-4d68-9aa3-4c5f5b684386",
    "execution": {
     "iopub.execute_input": "2021-05-31T21:59:28.107852Z",
     "iopub.status.busy": "2021-05-31T21:59:28.107482Z",
     "iopub.status.idle": "2021-05-31T21:59:28.116745Z",
     "shell.execute_reply": "2021-05-31T21:59:28.115452Z",
     "shell.execute_reply.started": "2021-05-31T21:59:28.107819Z"
    },
    "jupyter": {
     "outputs_hidden": false
    }
   },
   "outputs": [],
   "source": [
    "## Inspect vlaues in country and pre-process it.\n",
    "data_copy['Country'].value_counts().index\n",
    "\n",
    "## Replace state name with country name in COuntry column\n",
    "data_copy[\"Country\"].replace({\"Haryana\": \"India\", \"Delhi\": \"India\", \"Rajasthan\":\"India\"}, inplace=True)"
   ]
  },
  {
   "cell_type": "code",
   "execution_count": 15,
   "metadata": {
    "_cell_guid": "4313f925-0c20-45c2-aee2-abf2736f3245",
    "_uuid": "2433cb4b-d807-41f6-bea6-3f4682ca454f",
    "execution": {
     "iopub.execute_input": "2021-05-31T21:59:28.344653Z",
     "iopub.status.busy": "2021-05-31T21:59:28.344230Z",
     "iopub.status.idle": "2021-05-31T21:59:28.354860Z",
     "shell.execute_reply": "2021-05-31T21:59:28.353482Z",
     "shell.execute_reply.started": "2021-05-31T21:59:28.344619Z"
    },
    "jupyter": {
     "outputs_hidden": false
    }
   },
   "outputs": [
    {
     "data": {
      "text/plain": [
       "array(['0', '36', 'F-2/7OKHDelhi', '669.74', '31.83', '183.95', '63.56',\n",
       "       '1.95', '105', '84.7', '5', '22.8', '778.74', '214.4', '14.4',\n",
       "       '60.89', '65.33', '19.17', '238.73', '12.3', '489.63', '61.77',\n",
       "       '34.4', '209', '42', '274', '8', '99.9', '80.8', '21.2', '95',\n",
       "       '5.5', '13', '227', '368'], dtype=object)"
      ]
     },
     "execution_count": 15,
     "metadata": {},
     "output_type": "execute_result"
    }
   ],
   "source": [
    "## Analyse and clean InternationTransactionAmount column in dataset\n",
    "data_copy['InternationTransactionAmount'] = data_copy.InternationTransactionAmount.str.replace(' ', '')\n",
    "data_copy.InternationTransactionAmount.unique()"
   ]
  },
  {
   "cell_type": "code",
   "execution_count": 16,
   "metadata": {
    "_cell_guid": "d84108b0-46a4-484f-9c5f-506989ad6fc3",
    "_uuid": "f43e512e-c73d-44ab-be46-6ff02b4f6a75",
    "execution": {
     "iopub.execute_input": "2021-05-31T21:59:28.632930Z",
     "iopub.status.busy": "2021-05-31T21:59:28.632566Z",
     "iopub.status.idle": "2021-05-31T21:59:28.641761Z",
     "shell.execute_reply": "2021-05-31T21:59:28.640276Z",
     "shell.execute_reply.started": "2021-05-31T21:59:28.632900Z"
    },
    "jupyter": {
     "outputs_hidden": false
    }
   },
   "outputs": [],
   "source": [
    "## Remove unnecessary value in InternationTransactionAmount column\n",
    "data_copy.drop(data_copy.index[data_copy['InternationTransactionAmount'] == 'F-2/7OKHDelhi'], inplace = True)"
   ]
  },
  {
   "cell_type": "code",
   "execution_count": 17,
   "metadata": {
    "_cell_guid": "ab453f5c-fbe6-4237-9a9d-61fdb5479c1a",
    "_uuid": "c43828d6-a8e9-41ed-a114-09e9de200cee",
    "execution": {
     "iopub.execute_input": "2021-05-31T21:59:28.872466Z",
     "iopub.status.busy": "2021-05-31T21:59:28.871933Z",
     "iopub.status.idle": "2021-05-31T21:59:28.883558Z",
     "shell.execute_reply": "2021-05-31T21:59:28.881880Z",
     "shell.execute_reply.started": "2021-05-31T21:59:28.872422Z"
    },
    "jupyter": {
     "outputs_hidden": false
    }
   },
   "outputs": [],
   "source": [
    "## Analyse and clean State column  \n",
    "data_copy.State.unique()\n",
    "data_copy[\"State\"].replace({\"हरियाणा\": \"Haryana\",\"Jaipur\":\"Rajasthan\",\"Gurugram\": \"Haryana\"}, inplace=True)\n",
    "\n",
    "## Fill missing vlaue from most frequent vlaue in column\n",
    "data_copy['State'].fillna(data_copy['State'].mode()[0], inplace = True)"
   ]
  },
  {
   "cell_type": "code",
   "execution_count": 18,
   "metadata": {
    "_cell_guid": "6402db1f-4a3d-4129-bd61-e46e3475883b",
    "_uuid": "6a81ccb8-2593-4b30-90da-5d83c06792fe",
    "execution": {
     "iopub.execute_input": "2021-05-31T21:59:29.147939Z",
     "iopub.status.busy": "2021-05-31T21:59:29.147496Z",
     "iopub.status.idle": "2021-05-31T21:59:29.158037Z",
     "shell.execute_reply": "2021-05-31T21:59:29.156574Z",
     "shell.execute_reply.started": "2021-05-31T21:59:29.147901Z"
    },
    "jupyter": {
     "outputs_hidden": false
    }
   },
   "outputs": [],
   "source": [
    "## Analyse and clean City column  \n",
    "data_copy.City.unique()\n",
    "\n",
    "## Change City name in string only, however it consist country name but it is not efficient to find particular city.\n",
    "data_copy[\"City\"].replace({\"गुरुग्राम\": \"Gurugram\"}, inplace=True)\n",
    "\n",
    "## Fill missing vlaue from most frequent vlaue in column\n",
    "data_copy['City'].fillna(data_copy['City'].mode()[0], inplace = True)"
   ]
  },
  {
   "cell_type": "code",
   "execution_count": 19,
   "metadata": {
    "_cell_guid": "99980f94-fe7c-473e-a74a-e712e3c7a389",
    "_uuid": "8ec1d760-fa82-4c20-a8ac-7e3431d1f750",
    "execution": {
     "iopub.execute_input": "2021-05-31T21:59:29.450665Z",
     "iopub.status.busy": "2021-05-31T21:59:29.450215Z",
     "iopub.status.idle": "2021-05-31T21:59:29.459330Z",
     "shell.execute_reply": "2021-05-31T21:59:29.457789Z",
     "shell.execute_reply.started": "2021-05-31T21:59:29.450624Z"
    },
    "jupyter": {
     "outputs_hidden": false
    }
   },
   "outputs": [],
   "source": [
    "## Analyse and clean Locality column  \n",
    "data_copy.Locality.unique()\n",
    "\n",
    "## Fill missing vlaue from most frequent vlaue in column\n",
    "data_copy['Locality'].fillna(data_copy['Locality'].mode()[0], inplace = True)"
   ]
  },
  {
   "cell_type": "code",
   "execution_count": 20,
   "metadata": {
    "_cell_guid": "4093b818-329c-4aa8-beb3-14ee52714a85",
    "_uuid": "97155ec1-9dd3-41aa-81ec-01d46b81b9a3",
    "execution": {
     "iopub.execute_input": "2021-05-31T21:59:29.752901Z",
     "iopub.status.busy": "2021-05-31T21:59:29.752509Z",
     "iopub.status.idle": "2021-05-31T21:59:29.764795Z",
     "shell.execute_reply": "2021-05-31T21:59:29.763328Z",
     "shell.execute_reply.started": "2021-05-31T21:59:29.752864Z"
    },
    "jupyter": {
     "outputs_hidden": false
    }
   },
   "outputs": [
    {
     "data": {
      "text/plain": [
       "Date                            0\n",
       "Description                     0\n",
       "InternationTransactionAmount    0\n",
       "Category                        0\n",
       "Amount                          0\n",
       "TransactionUserName             0\n",
       "TransactionType                 0\n",
       "IsoCurrency                     0\n",
       "Locality                        0\n",
       "City                            0\n",
       "State                           0\n",
       "Country                         0\n",
       "dtype: int64"
      ]
     },
     "execution_count": 20,
     "metadata": {},
     "output_type": "execute_result"
    }
   ],
   "source": [
    "## Now, check null values in dataset\n",
    "data_copy.isnull().sum()"
   ]
  },
  {
   "cell_type": "code",
   "execution_count": 21,
   "metadata": {
    "_cell_guid": "37ba74f3-18af-43ed-94b6-f7a20ac8c00a",
    "_uuid": "293c9b49-af5f-4d7f-be89-05fe8257005f",
    "execution": {
     "iopub.execute_input": "2021-05-31T21:59:30.345277Z",
     "iopub.status.busy": "2021-05-31T21:59:30.344756Z",
     "iopub.status.idle": "2021-05-31T21:59:30.358810Z",
     "shell.execute_reply": "2021-05-31T21:59:30.357451Z",
     "shell.execute_reply.started": "2021-05-31T21:59:30.345232Z"
    },
    "jupyter": {
     "outputs_hidden": false
    }
   },
   "outputs": [
    {
     "data": {
      "text/plain": [
       "array(['THEROOMGURGAON', 'CUTANDSTYLEGURGAON', 'MUMUSOGURGAON',\n",
       "       'JAIPURSPACEJAIPUR', 'CAFECOFFEEDAYHIGHWAYKI',\n",
       "       'CAFECOFFEEDAYALANKARPL', 'LIFESTYLEINTERNATIONAJAIPUR',\n",
       "       'NEWU47JAIPUR', 'COCONUTRESTAURANTJAIPUR', 'UCBJAIPUR'],\n",
       "      dtype=object)"
      ]
     },
     "execution_count": 21,
     "metadata": {},
     "output_type": "execute_result"
    }
   ],
   "source": [
    "## Clean Description column i.e remove spacing \n",
    "data_copy['Description'] = data_copy.Description.str.replace(' ', '')\n",
    "data_copy.Description.unique()[:10]"
   ]
  },
  {
   "cell_type": "code",
   "execution_count": 22,
   "metadata": {
    "_cell_guid": "55dd4758-0da7-4308-b571-d3d21f563387",
    "_uuid": "f286fd19-9fc0-4596-bb9f-db3e26cc1ca1",
    "execution": {
     "iopub.execute_input": "2021-05-31T21:59:30.993143Z",
     "iopub.status.busy": "2021-05-31T21:59:30.992722Z",
     "iopub.status.idle": "2021-05-31T21:59:31.002899Z",
     "shell.execute_reply": "2021-05-31T21:59:31.002054Z",
     "shell.execute_reply.started": "2021-05-31T21:59:30.993108Z"
    },
    "jupyter": {
     "outputs_hidden": false
    }
   },
   "outputs": [
    {
     "data": {
      "text/plain": [
       "array(['Technologycompany', 'SongbyRhye', 'King', 'SongbyTheBotherers',\n",
       "       'Indianteacher', 'Guru', 'Televisioncompany', 'Agency',\n",
       "       'Medication', '2001film', 'Indianactor', 'Supermarketcompany',\n",
       "       'NovelbyLewisCarroll', 'Chemicalcompound', 'CityinJapan'],\n",
       "      dtype=object)"
      ]
     },
     "execution_count": 22,
     "metadata": {},
     "output_type": "execute_result"
    }
   ],
   "source": [
    "## Clean Amount column i.e remove spacing \n",
    "data_copy['Category'] = data_copy.Category.str.replace(' ', '')\n",
    "data_copy.Category.unique()[-15:]"
   ]
  },
  {
   "cell_type": "code",
   "execution_count": 23,
   "metadata": {
    "_cell_guid": "166a63bc-3494-4648-8734-396da944a6cb",
    "_uuid": "39b95f3b-d999-4202-b698-9e536a6a4f85",
    "execution": {
     "iopub.execute_input": "2021-05-31T21:59:31.714435Z",
     "iopub.status.busy": "2021-05-31T21:59:31.714022Z",
     "iopub.status.idle": "2021-05-31T21:59:31.727127Z",
     "shell.execute_reply": "2021-05-31T21:59:31.725574Z",
     "shell.execute_reply.started": "2021-05-31T21:59:31.714397Z"
    },
    "jupyter": {
     "outputs_hidden": false
    }
   },
   "outputs": [
    {
     "data": {
      "text/plain": [
       "array(['INR', 'USD', 'SGD', 'MYR', 'Domestic'], dtype=object)"
      ]
     },
     "execution_count": 23,
     "metadata": {},
     "output_type": "execute_result"
    }
   ],
   "source": [
    "## Clean and remove extra spacing in ISCurrency column \n",
    "data_copy['IsoCurrency'] = data_copy.IsoCurrency.str.replace(' ', '')\n",
    "data_copy.IsoCurrency.unique()"
   ]
  },
  {
   "cell_type": "code",
   "execution_count": 24,
   "metadata": {
    "_cell_guid": "cbd6ead9-b397-4e27-ad73-bd2fe2d73f78",
    "_uuid": "48a66b9d-f537-49ba-8c3d-ac62a60e379b",
    "execution": {
     "iopub.execute_input": "2021-05-31T21:59:31.968461Z",
     "iopub.status.busy": "2021-05-31T21:59:31.968043Z",
     "iopub.status.idle": "2021-05-31T21:59:31.983272Z",
     "shell.execute_reply": "2021-05-31T21:59:31.981909Z",
     "shell.execute_reply.started": "2021-05-31T21:59:31.968422Z"
    },
    "jupyter": {
     "outputs_hidden": false
    }
   },
   "outputs": [
    {
     "data": {
      "text/plain": [
       "array(['Domestic', 'International'], dtype=object)"
      ]
     },
     "execution_count": 24,
     "metadata": {},
     "output_type": "execute_result"
    }
   ],
   "source": [
    "## Clean and remove extra spacing in TransactionType column \n",
    "data_copy['TransactionType'] = data_copy.TransactionType.str.replace(' ', '')\n",
    "\n",
    "data_copy.TransactionType.mode()\n",
    "## Transaction Type column contains name rather than type, need to change it with most frequent value i.e Domestic.\n",
    "\n",
    "data_copy[\"TransactionType\"].replace({\"JASJITKAUR\": \"Domestic\", \"VIBHOREGOYAL\": \"Domestic\" }, inplace=True)\n",
    "\n",
    "data_copy.TransactionType.unique()"
   ]
  },
  {
   "cell_type": "code",
   "execution_count": 25,
   "metadata": {
    "_cell_guid": "5cd8ca59-1fe9-4a25-9e7c-78abb0bddad9",
    "_uuid": "f52b4e21-770c-4f56-9b0e-cc7c13ddd418",
    "execution": {
     "iopub.execute_input": "2021-05-31T21:59:32.251096Z",
     "iopub.status.busy": "2021-05-31T21:59:32.250660Z",
     "iopub.status.idle": "2021-05-31T21:59:32.267726Z",
     "shell.execute_reply": "2021-05-31T21:59:32.266262Z",
     "shell.execute_reply.started": "2021-05-31T21:59:32.251052Z"
    },
    "jupyter": {
     "outputs_hidden": false
    }
   },
   "outputs": [
    {
     "data": {
      "text/plain": [
       "array(['Domestic', 'International'], dtype=object)"
      ]
     },
     "execution_count": 25,
     "metadata": {},
     "output_type": "execute_result"
    }
   ],
   "source": [
    "## Clean and remove extra spacing in TransactionUserName column \n",
    "data_copy.TransactionUserName.mode()\n",
    "\n",
    "## Change random numbers in UserName column to most frequent value.\n",
    "data_copy[\"TransactionUserName\"].replace({\"-2899\": \"JASJITKAUR\", \"-2348\": \"JASJITKAUR\",\"-2391\": \"JASJITKAUR\"}, inplace=True)\n",
    "\n",
    "## remove extra spacing in TransactionName column \n",
    "data_copy['TransactionUserName'] = data_copy.TransactionType.str.replace(' ', '')\n",
    "\n",
    "data_copy.TransactionUserName.unique()"
   ]
  },
  {
   "cell_type": "code",
   "execution_count": 26,
   "metadata": {
    "_cell_guid": "fe20e97f-b488-47df-a37c-3a789b1d9c56",
    "_uuid": "1956e90a-d853-4202-9993-2b7b5872d049",
    "execution": {
     "iopub.execute_input": "2021-05-31T21:59:32.552623Z",
     "iopub.status.busy": "2021-05-31T21:59:32.552163Z",
     "iopub.status.idle": "2021-05-31T21:59:32.562717Z",
     "shell.execute_reply": "2021-05-31T21:59:32.561070Z",
     "shell.execute_reply.started": "2021-05-31T21:59:32.552584Z"
    },
    "jupyter": {
     "outputs_hidden": false
    }
   },
   "outputs": [],
   "source": [
    "## Now, change numerical data containing column to numerical data type\n",
    "data_copy[\"Amount\"] = pd.to_numeric(data_copy[\"Amount\"], errors='coerce')"
   ]
  },
  {
   "cell_type": "code",
   "execution_count": 27,
   "metadata": {
    "_cell_guid": "431f5321-19d1-4ed1-8ea1-eaa11eb89536",
    "_uuid": "98a2a10e-3f7a-41ed-b6e0-2836f0235886",
    "execution": {
     "iopub.execute_input": "2021-05-31T22:00:07.035632Z",
     "iopub.status.busy": "2021-05-31T22:00:07.035019Z",
     "iopub.status.idle": "2021-05-31T22:00:07.043733Z",
     "shell.execute_reply": "2021-05-31T22:00:07.042278Z",
     "shell.execute_reply.started": "2021-05-31T22:00:07.035579Z"
    },
    "jupyter": {
     "outputs_hidden": false
    }
   },
   "outputs": [],
   "source": [
    "data_copy[\"InternationTransactionAmount\"] = pd.to_numeric(data_copy[\"InternationTransactionAmount\"], errors='coerce')"
   ]
  },
  {
   "cell_type": "code",
   "execution_count": 28,
   "metadata": {
    "_cell_guid": "c0291ab4-c6ca-4e12-b8a6-da8ca59dc099",
    "_uuid": "cb37e38c-f9b1-4a3a-8021-122c96e08e9b",
    "execution": {
     "iopub.execute_input": "2021-05-31T22:00:08.825716Z",
     "iopub.status.busy": "2021-05-31T22:00:08.825257Z",
     "iopub.status.idle": "2021-05-31T22:00:08.847511Z",
     "shell.execute_reply": "2021-05-31T22:00:08.845436Z",
     "shell.execute_reply.started": "2021-05-31T22:00:08.825678Z"
    },
    "jupyter": {
     "outputs_hidden": false
    }
   },
   "outputs": [
    {
     "name": "stdout",
     "output_type": "stream",
     "text": [
      "<class 'pandas.core.frame.DataFrame'>\n",
      "Int64Index: 1469 entries, 0 to 1469\n",
      "Data columns (total 12 columns):\n",
      " #   Column                        Non-Null Count  Dtype  \n",
      "---  ------                        --------------  -----  \n",
      " 0   Date                          1469 non-null   object \n",
      " 1   Description                   1469 non-null   object \n",
      " 2   InternationTransactionAmount  1469 non-null   float64\n",
      " 3   Category                      1469 non-null   object \n",
      " 4   Amount                        1466 non-null   float64\n",
      " 5   TransactionUserName           1469 non-null   object \n",
      " 6   TransactionType               1469 non-null   object \n",
      " 7   IsoCurrency                   1469 non-null   object \n",
      " 8   Locality                      1469 non-null   object \n",
      " 9   City                          1469 non-null   object \n",
      " 10  State                         1469 non-null   object \n",
      " 11  Country                       1469 non-null   object \n",
      "dtypes: float64(2), object(10)\n",
      "memory usage: 149.2+ KB\n"
     ]
    }
   ],
   "source": [
    "data_copy.info()"
   ]
  },
  {
   "cell_type": "code",
   "execution_count": 29,
   "metadata": {
    "_cell_guid": "71f22e66-dd22-4d4e-ae7c-cb5286bd7433",
    "_uuid": "6faaa196-29e9-44c8-8d35-0e802b7c4f28",
    "execution": {
     "iopub.execute_input": "2021-05-31T22:05:11.948721Z",
     "iopub.status.busy": "2021-05-31T22:05:11.948343Z",
     "iopub.status.idle": "2021-05-31T22:05:12.004858Z",
     "shell.execute_reply": "2021-05-31T22:05:12.003501Z",
     "shell.execute_reply.started": "2021-05-31T22:05:11.948690Z"
    },
    "jupyter": {
     "outputs_hidden": false
    }
   },
   "outputs": [],
   "source": [
    "## Extract month and year from Date column of DD/MM/YYYY format.\n",
    "data_copy['year'] = pd.DatetimeIndex(data_copy['Date']).year"
   ]
  },
  {
   "cell_type": "code",
   "execution_count": 30,
   "metadata": {
    "_cell_guid": "f4f509f3-abd7-4b43-8592-649433f9ad5f",
    "_uuid": "19b526d8-4b8f-45f5-91ea-dda59b47cb1a",
    "execution": {
     "iopub.execute_input": "2021-05-31T22:06:23.156619Z",
     "iopub.status.busy": "2021-05-31T22:06:23.156183Z",
     "iopub.status.idle": "2021-05-31T22:06:23.203631Z",
     "shell.execute_reply": "2021-05-31T22:06:23.202790Z",
     "shell.execute_reply.started": "2021-05-31T22:06:23.156585Z"
    },
    "jupyter": {
     "outputs_hidden": false
    }
   },
   "outputs": [],
   "source": [
    "## Extract month\n",
    "data_copy['month'] = pd.DatetimeIndex(data_copy['Date']).month"
   ]
  },
  {
   "cell_type": "code",
   "execution_count": 31,
   "metadata": {
    "_cell_guid": "705a45b0-69b5-4acf-9f58-c8879192238f",
    "_uuid": "3a268767-7886-4cc5-8db2-fa378e7e0e1e",
    "execution": {
     "iopub.execute_input": "2021-05-31T22:08:49.186983Z",
     "iopub.status.busy": "2021-05-31T22:08:49.186580Z",
     "iopub.status.idle": "2021-05-31T22:08:49.239091Z",
     "shell.execute_reply": "2021-05-31T22:08:49.237708Z",
     "shell.execute_reply.started": "2021-05-31T22:08:49.186950Z"
    },
    "jupyter": {
     "outputs_hidden": false
    }
   },
   "outputs": [],
   "source": [
    "## Extract day also from Date\n",
    "data_copy['day'] = pd.DatetimeIndex(data_copy['Date']).day"
   ]
  },
  {
   "cell_type": "code",
   "execution_count": 32,
   "metadata": {
    "_cell_guid": "701f22c0-faca-4f39-b994-099024406433",
    "_uuid": "9e937ca6-51f9-44a5-99f7-3dc41a5d1e89",
    "execution": {
     "iopub.execute_input": "2021-05-31T22:11:14.649384Z",
     "iopub.status.busy": "2021-05-31T22:11:14.648982Z",
     "iopub.status.idle": "2021-05-31T22:11:14.673869Z",
     "shell.execute_reply": "2021-05-31T22:11:14.672585Z",
     "shell.execute_reply.started": "2021-05-31T22:11:14.649346Z"
    },
    "jupyter": {
     "outputs_hidden": false
    }
   },
   "outputs": [
    {
     "data": {
      "text/html": [
       "<div>\n",
       "<style scoped>\n",
       "    .dataframe tbody tr th:only-of-type {\n",
       "        vertical-align: middle;\n",
       "    }\n",
       "\n",
       "    .dataframe tbody tr th {\n",
       "        vertical-align: top;\n",
       "    }\n",
       "\n",
       "    .dataframe thead th {\n",
       "        text-align: right;\n",
       "    }\n",
       "</style>\n",
       "<table border=\"1\" class=\"dataframe\">\n",
       "  <thead>\n",
       "    <tr style=\"text-align: right;\">\n",
       "      <th></th>\n",
       "      <th>Date</th>\n",
       "      <th>Description</th>\n",
       "      <th>InternationTransactionAmount</th>\n",
       "      <th>Category</th>\n",
       "      <th>Amount</th>\n",
       "      <th>TransactionUserName</th>\n",
       "      <th>TransactionType</th>\n",
       "      <th>IsoCurrency</th>\n",
       "      <th>Locality</th>\n",
       "      <th>City</th>\n",
       "      <th>State</th>\n",
       "      <th>Country</th>\n",
       "      <th>year</th>\n",
       "      <th>month</th>\n",
       "      <th>day</th>\n",
       "    </tr>\n",
       "  </thead>\n",
       "  <tbody>\n",
       "    <tr>\n",
       "      <th>1465</th>\n",
       "      <td>6/7/2019</td>\n",
       "      <td>KFCSEC47SOHNAROADGGURGAON</td>\n",
       "      <td>0.0</td>\n",
       "      <td>Fastfoodrestaurantcompany</td>\n",
       "      <td>-120.0</td>\n",
       "      <td>Domestic</td>\n",
       "      <td>Domestic</td>\n",
       "      <td>INR</td>\n",
       "      <td>D1 Block</td>\n",
       "      <td>Gurugram</td>\n",
       "      <td>Haryana</td>\n",
       "      <td>India</td>\n",
       "      <td>2019</td>\n",
       "      <td>6</td>\n",
       "      <td>7</td>\n",
       "    </tr>\n",
       "    <tr>\n",
       "      <th>1466</th>\n",
       "      <td>7/7/2019</td>\n",
       "      <td>SPICEJETLIMITEDGURGAON</td>\n",
       "      <td>0.0</td>\n",
       "      <td>Airline</td>\n",
       "      <td>-1798.0</td>\n",
       "      <td>Domestic</td>\n",
       "      <td>Domestic</td>\n",
       "      <td>INR</td>\n",
       "      <td>Phase III</td>\n",
       "      <td>Gurugram</td>\n",
       "      <td>Haryana</td>\n",
       "      <td>India</td>\n",
       "      <td>2019</td>\n",
       "      <td>7</td>\n",
       "      <td>7</td>\n",
       "    </tr>\n",
       "    <tr>\n",
       "      <th>1467</th>\n",
       "      <td>7/7/2019</td>\n",
       "      <td>CAFECOFFEEDAYILDTRADE</td>\n",
       "      <td>0.0</td>\n",
       "      <td>Cafecompany</td>\n",
       "      <td>-298.0</td>\n",
       "      <td>Domestic</td>\n",
       "      <td>Domestic</td>\n",
       "      <td>INR</td>\n",
       "      <td>Sohna Road</td>\n",
       "      <td>Gurugram</td>\n",
       "      <td>Haryana</td>\n",
       "      <td>India</td>\n",
       "      <td>2019</td>\n",
       "      <td>7</td>\n",
       "      <td>7</td>\n",
       "    </tr>\n",
       "    <tr>\n",
       "      <th>1468</th>\n",
       "      <td>7/7/2019</td>\n",
       "      <td>SHOPPERSSTOPLTDGURGAON</td>\n",
       "      <td>0.0</td>\n",
       "      <td>Departmentstorecompany</td>\n",
       "      <td>-1852.0</td>\n",
       "      <td>Domestic</td>\n",
       "      <td>Domestic</td>\n",
       "      <td>INR</td>\n",
       "      <td>Heritage City</td>\n",
       "      <td>Gurugram</td>\n",
       "      <td>Haryana</td>\n",
       "      <td>India</td>\n",
       "      <td>2019</td>\n",
       "      <td>7</td>\n",
       "      <td>7</td>\n",
       "    </tr>\n",
       "    <tr>\n",
       "      <th>1469</th>\n",
       "      <td>11/7/2019</td>\n",
       "      <td>TATAINDICOM-DOCOMOMUMBAI</td>\n",
       "      <td>0.0</td>\n",
       "      <td>FormerPresidentofSouthAfrica</td>\n",
       "      <td>-1297.0</td>\n",
       "      <td>Domestic</td>\n",
       "      <td>Domestic</td>\n",
       "      <td>INR</td>\n",
       "      <td>Mahim</td>\n",
       "      <td>Mumbai</td>\n",
       "      <td>Maharashtra</td>\n",
       "      <td>India</td>\n",
       "      <td>2019</td>\n",
       "      <td>11</td>\n",
       "      <td>7</td>\n",
       "    </tr>\n",
       "  </tbody>\n",
       "</table>\n",
       "</div>"
      ],
      "text/plain": [
       "           Date                Description  InternationTransactionAmount  \\\n",
       "1465   6/7/2019  KFCSEC47SOHNAROADGGURGAON                           0.0   \n",
       "1466   7/7/2019     SPICEJETLIMITEDGURGAON                           0.0   \n",
       "1467   7/7/2019      CAFECOFFEEDAYILDTRADE                           0.0   \n",
       "1468   7/7/2019     SHOPPERSSTOPLTDGURGAON                           0.0   \n",
       "1469  11/7/2019   TATAINDICOM-DOCOMOMUMBAI                           0.0   \n",
       "\n",
       "                          Category  Amount TransactionUserName  \\\n",
       "1465     Fastfoodrestaurantcompany  -120.0            Domestic   \n",
       "1466                       Airline -1798.0            Domestic   \n",
       "1467                   Cafecompany  -298.0            Domestic   \n",
       "1468        Departmentstorecompany -1852.0            Domestic   \n",
       "1469  FormerPresidentofSouthAfrica -1297.0            Domestic   \n",
       "\n",
       "     TransactionType IsoCurrency       Locality      City        State  \\\n",
       "1465        Domestic         INR       D1 Block  Gurugram      Haryana   \n",
       "1466        Domestic         INR      Phase III  Gurugram      Haryana   \n",
       "1467        Domestic         INR     Sohna Road  Gurugram      Haryana   \n",
       "1468        Domestic         INR  Heritage City  Gurugram      Haryana   \n",
       "1469        Domestic         INR          Mahim    Mumbai  Maharashtra   \n",
       "\n",
       "     Country  year  month  day  \n",
       "1465   India  2019      6    7  \n",
       "1466   India  2019      7    7  \n",
       "1467   India  2019      7    7  \n",
       "1468   India  2019      7    7  \n",
       "1469   India  2019     11    7  "
      ]
     },
     "execution_count": 32,
     "metadata": {},
     "output_type": "execute_result"
    }
   ],
   "source": [
    "data_copy.tail()"
   ]
  },
  {
   "cell_type": "code",
   "execution_count": 33,
   "metadata": {
    "_cell_guid": "e4046f0d-070a-4a94-b4ad-6d7b24898273",
    "_uuid": "27055fb8-ede0-4ae2-a950-3d0527888ebc",
    "execution": {
     "iopub.execute_input": "2021-05-31T22:12:50.062820Z",
     "iopub.status.busy": "2021-05-31T22:12:50.062349Z",
     "iopub.status.idle": "2021-05-31T22:12:50.087670Z",
     "shell.execute_reply": "2021-05-31T22:12:50.086441Z",
     "shell.execute_reply.started": "2021-05-31T22:12:50.062780Z"
    },
    "jupyter": {
     "outputs_hidden": false
    }
   },
   "outputs": [],
   "source": [
    "## Finally, save the dataset in new csv file.\n",
    "data_copy.to_csv('Clean_Data_Science.csv')"
   ]
  },
  {
   "cell_type": "code",
   "execution_count": null,
   "metadata": {
    "_cell_guid": "54f5e90e-b95c-48c8-8202-efa9aff6cf50",
    "_uuid": "a423d58d-8588-4786-b177-f10ff57a51d5",
    "jupyter": {
     "outputs_hidden": false
    }
   },
   "outputs": [],
   "source": []
  },
  {
   "cell_type": "code",
   "execution_count": null,
   "metadata": {},
   "outputs": [],
   "source": []
  }
 ],
 "metadata": {
  "kernelspec": {
   "display_name": "Python 3",
   "language": "python",
   "name": "python3"
  },
  "language_info": {
   "codemirror_mode": {
    "name": "ipython",
    "version": 3
   },
   "file_extension": ".py",
   "mimetype": "text/x-python",
   "name": "python",
   "nbconvert_exporter": "python",
   "pygments_lexer": "ipython3",
   "version": "3.8.5"
  }
 },
 "nbformat": 4,
 "nbformat_minor": 4
}
